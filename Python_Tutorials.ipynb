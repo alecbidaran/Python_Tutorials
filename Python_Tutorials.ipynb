{
 "cells": [
  {
   "cell_type": "markdown",
   "metadata": {},
   "source": [
    "# Begining first Code in Python "
   ]
  },
  {
   "cell_type": "code",
   "execution_count": 1,
   "metadata": {},
   "outputs": [
    {
     "name": "stdout",
     "output_type": "stream",
     "text": [
      "hello world\n"
     ]
    }
   ],
   "source": [
    "print(\"hello world\")"
   ]
  },
  {
   "cell_type": "markdown",
   "metadata": {},
   "source": [
    "# Variables in Python "
   ]
  },
  {
   "cell_type": "code",
   "execution_count": 5,
   "metadata": {},
   "outputs": [
    {
     "name": "stdout",
     "output_type": "stream",
     "text": [
      "10\n",
      "6.8\n",
      "c\n",
      "hello world\n",
      "['hello', 'world']\n"
     ]
    }
   ],
   "source": [
    "#integer \n",
    "a=10\n",
    "#float\n",
    "b=6.8\n",
    "#charecter\n",
    "c='c'\n",
    "#string \n",
    "sample=\"hello world\"\n",
    "print(a)\n",
    "print(b)\n",
    "print(c)\n",
    "print(sample)\n",
    "print(sample.split(' '))"
   ]
  },
  {
   "cell_type": "markdown",
   "metadata": {},
   "source": [
    "# Simple mathematic Operation "
   ]
  },
  {
   "cell_type": "code",
   "execution_count": 27,
   "metadata": {},
   "outputs": [
    {
     "name": "stdout",
     "output_type": "stream",
     "text": [
      "412.0\n",
      "412\n",
      "4800\n",
      "33.333333333333336\n",
      "33\n",
      "4\n",
      "160000\n",
      "410\n",
      "370\n",
      "64\n",
      "0\n"
     ]
    }
   ],
   "source": [
    "a=400\n",
    "b=12\n",
    "print(float(a+b))\n",
    "print(int(a+b))\n",
    "print(a*b)\n",
    "print(a/b)\n",
    "print(a//b)\n",
    "print(a%b)\n",
    "print(a**2)\n",
    "a+=10\n",
    "print(a)\n",
    "a-=40\n",
    "print(a)\n",
    "c=0x04\n",
    "#shift operator\n",
    "print(c<<4)\n",
    "print(c>>4)\n"
   ]
  },
  {
   "cell_type": "markdown",
   "metadata": {},
   "source": [
    "# Conditions "
   ]
  },
  {
   "cell_type": "markdown",
   "metadata": {},
   "source": [
    "Equals: a == b\n",
    "<br>\n",
    "Not Equals: a != b\n",
    "<br>\n",
    "Less than: a < b\n",
    "<br>\n",
    "Less than or equal to: a <= b\n",
    "<br>\n",
    "Greater than: a > b\n",
    "<br>\n",
    "Greater than or equal to: a >= b"
   ]
  },
  {
   "cell_type": "code",
   "execution_count": 9,
   "metadata": {},
   "outputs": [
    {
     "name": "stdout",
     "output_type": "stream",
     "text": [
      "1\n",
      "2\n",
      "3\n",
      "4\n",
      "5\n",
      "6\n",
      "7\n",
      "8\n",
      "9\n",
      "10\n"
     ]
    }
   ],
   "source": [
    "### while \n",
    "a=0\n",
    "while a<10:\n",
    "    a+=1\n",
    "    print(a)"
   ]
  },
  {
   "cell_type": "code",
   "execution_count": 1,
   "metadata": {},
   "outputs": [
    {
     "name": "stdout",
     "output_type": "stream",
     "text": [
      "10\n",
      "20\n",
      "30\n",
      "40\n",
      "50\n",
      "60\n",
      "70\n",
      "80\n",
      "90\n",
      "100\n"
     ]
    }
   ],
   "source": [
    "##Using if statement\n",
    "a=0\n",
    "while True: \n",
    "    a+=10\n",
    "    print(a)\n",
    "    if a>=100:\n",
    "        break\n",
    "    "
   ]
  },
  {
   "cell_type": "code",
   "execution_count": 16,
   "metadata": {},
   "outputs": [
    {
     "name": "stdout",
     "output_type": "stream",
     "text": [
      "a and b are equal\n"
     ]
    }
   ],
   "source": [
    "#Using elif (else if )\n",
    "a = 33\n",
    "b = 33\n",
    "if b > a:\n",
    "  print(\"b is greater than a\")\n",
    "elif a == b:\n",
    "  print(\"a and b are equal\")"
   ]
  },
  {
   "cell_type": "code",
   "execution_count": 17,
   "metadata": {},
   "outputs": [
    {
     "name": "stdout",
     "output_type": "stream",
     "text": [
      "a is greater than b\n"
     ]
    }
   ],
   "source": [
    "#Using else\n",
    "a = 200\n",
    "b = 33\n",
    "if b > a:\n",
    "  print(\"b is greater than a\")\n",
    "elif a == b:\n",
    "  print(\"a and b are equal\")\n",
    "else:\n",
    "  print(\"a is greater than b\")"
   ]
  },
  {
   "cell_type": "code",
   "execution_count": 2,
   "metadata": {},
   "outputs": [
    {
     "name": "stdout",
     "output_type": "stream",
     "text": [
      "Both conditions are True\n"
     ]
    }
   ],
   "source": [
    "# And \n",
    "a = 200\n",
    "b = 33\n",
    "c = 500\n",
    "if a > b and c > a:\n",
    "  print(\"Both conditions are True\")"
   ]
  },
  {
   "cell_type": "code",
   "execution_count": 19,
   "metadata": {},
   "outputs": [
    {
     "name": "stdout",
     "output_type": "stream",
     "text": [
      "At least one of the conditions is True\n"
     ]
    }
   ],
   "source": [
    "#OR\n",
    "a = 200\n",
    "b = 33\n",
    "c = 500\n",
    "if a > b or a > c:\n",
    "  print(\"At least one of the conditions is True\")"
   ]
  },
  {
   "cell_type": "code",
   "execution_count": 3,
   "metadata": {},
   "outputs": [
    {
     "name": "stdout",
     "output_type": "stream",
     "text": [
      "Above ten,\n",
      "and also above 20!\n"
     ]
    }
   ],
   "source": [
    "#nested If\n",
    "x = 41\n",
    "\n",
    "if x > 10:\n",
    "  print(\"Above ten,\")\n",
    "  if x > 20:\n",
    "    print(\"and also above 20!\")\n",
    "  else:\n",
    "    print(\"but not above 20.\")"
   ]
  },
  {
   "cell_type": "markdown",
   "metadata": {},
   "source": [
    "# Functions "
   ]
  },
  {
   "cell_type": "code",
   "execution_count": 4,
   "metadata": {},
   "outputs": [
    {
     "name": "stdout",
     "output_type": "stream",
     "text": [
      "Emil Refsnes\n"
     ]
    }
   ],
   "source": [
    "def my_function(fname, lname):\n",
    "  print(fname + \" \" + lname)\n",
    "\n",
    "my_function(\"Emil\", \"Refsnes\")"
   ]
  },
  {
   "cell_type": "code",
   "execution_count": 30,
   "metadata": {},
   "outputs": [
    {
     "name": "stdout",
     "output_type": "stream",
     "text": [
      "15\n",
      "25\n",
      "45\n",
      "50\n"
     ]
    }
   ],
   "source": [
    "def my_function(x):\n",
    "  return 5 * x\n",
    "\n",
    "print(my_function(3))\n",
    "print(my_function(5))\n",
    "print(my_function(9))\n",
    "m=my_function(10)\n",
    "print(m)"
   ]
  },
  {
   "cell_type": "code",
   "execution_count": 32,
   "metadata": {},
   "outputs": [
    {
     "name": "stdout",
     "output_type": "stream",
     "text": [
      "1\n",
      "2\n",
      "6\n",
      "24\n",
      "120\n"
     ]
    },
    {
     "data": {
      "text/plain": [
       "120"
      ]
     },
     "execution_count": 32,
     "metadata": {},
     "output_type": "execute_result"
    }
   ],
   "source": [
    "# iterative functions \n",
    "def factoriel(n):\n",
    "    if n==0:\n",
    "        return 1\n",
    "    f=n*factoriel(n-1)\n",
    "    print(f)\n",
    "    return f\n",
    "factoriel(5)"
   ]
  },
  {
   "cell_type": "markdown",
   "metadata": {},
   "source": [
    "# List and Dicts"
   ]
  },
  {
   "cell_type": "code",
   "execution_count": 6,
   "metadata": {},
   "outputs": [
    {
     "name": "stdout",
     "output_type": "stream",
     "text": [
      "[1, 2, 3, 4]\n",
      "3\n",
      "3\n",
      "sorted [4, 3, 2, 1]\n",
      "sorted ['a', 'e', 'i', 'o', 'u']\n",
      "sorted ['u', 'o', 'i', 'e', 'a']\n",
      "length 4\n"
     ]
    }
   ],
   "source": [
    "lst=[1,2,3,4]\n",
    "vowels = list(['e', 'a', 'u', 'o', 'i'])\n",
    "print(lst)\n",
    "print(lst[2])\n",
    "print(lst[-2])\n",
    "print(\"sorted\",sorted(lst,reverse=True))\n",
    "print(\"sorted\",sorted(vowels,reverse=False))\n",
    "print(\"sorted\",sorted(vowels,reverse=True))\n",
    "print(\"length\",len(lst))"
   ]
  },
  {
   "cell_type": "code",
   "execution_count": 7,
   "metadata": {},
   "outputs": [
    {
     "name": "stdout",
     "output_type": "stream",
     "text": [
      "Sorted list: [(1, 3), (2, 2), (3, 4), (4, 1)]\n"
     ]
    }
   ],
   "source": [
    "def takeSecond(elem):\n",
    "    return elem[0]\n",
    "\n",
    "# random list\n",
    "random = [(2, 2), (3, 4), (4, 1), (1, 3)]\n",
    "\n",
    "# sort list with key\n",
    "random.sort(key=takeSecond)\n",
    "\n",
    "# print list\n",
    "print('Sorted list:', random)\n"
   ]
  },
  {
   "cell_type": "markdown",
   "metadata": {},
   "source": [
    "# Dictionary"
   ]
  },
  {
   "cell_type": "markdown",
   "metadata": {},
   "source": [
    "Dict={key:values}"
   ]
  },
  {
   "cell_type": "code",
   "execution_count": 62,
   "metadata": {},
   "outputs": [
    {
     "name": "stdout",
     "output_type": "stream",
     "text": [
      "Ford\n"
     ]
    }
   ],
   "source": [
    "thisdict = {\n",
    "  \"brand\": \"Ford\",\n",
    "  \"model\": \"Mustang\",\n",
    "  \"year\": 1964\n",
    "}\n",
    "print(thisdict[\"brand\"])"
   ]
  },
  {
   "cell_type": "code",
   "execution_count": 67,
   "metadata": {},
   "outputs": [
    {
     "name": "stdout",
     "output_type": "stream",
     "text": [
      "['red', 'white', 'blue']\n",
      "dict_items([('brand', 'Ford'), ('electric', False), ('year', 1964), ('colors', ['red', 'white', 'blue'])])\n",
      "dict_keys(['brand', 'electric', 'year', 'colors'])\n"
     ]
    }
   ],
   "source": [
    "thisdict = {\n",
    "  \"brand\": \"Ford\",\n",
    "  \"electric\": False,\n",
    "  \"year\": 1964,\n",
    "  \"colors\": [\"red\", \"white\", \"blue\"]\n",
    "}\n",
    "print(thisdict[\"colors\"])\n",
    "print(thisdict.items())\n",
    "print(thisdict.keys())"
   ]
  },
  {
   "cell_type": "markdown",
   "metadata": {},
   "source": [
    "# Real world application of dicts"
   ]
  },
  {
   "cell_type": "code",
   "execution_count": 71,
   "metadata": {},
   "outputs": [],
   "source": [
    "import json\n",
    "import requests"
   ]
  },
  {
   "cell_type": "code",
   "execution_count": 70,
   "metadata": {},
   "outputs": [
    {
     "name": "stdout",
     "output_type": "stream",
     "text": [
      "{\"brand\": \"Ford\", \"electric\": false, \"year\": 1964, \"colors\": [\"red\", \"white\", \"blue\"]}\n"
     ]
    }
   ],
   "source": [
    "josn_obj=json.dumps(thisdict)\n",
    "print(josn_obj)"
   ]
  },
  {
   "cell_type": "code",
   "execution_count": 81,
   "metadata": {},
   "outputs": [
    {
     "name": "stdout",
     "output_type": "stream",
     "text": [
      "{'coord': {'lon': 51.4215, 'lat': 35.6944}, 'weather': [{'id': 801, 'main': 'Clouds', 'description': 'few clouds', 'icon': '02d'}], 'base': 'stations', 'main': {'temp': 297, 'feels_like': 296.09, 'temp_min': 296.88, 'temp_max': 297.14, 'pressure': 1014, 'humidity': 25}, 'visibility': 10000, 'wind': {'speed': 9.26, 'deg': 260}, 'clouds': {'all': 20}, 'dt': 1651653596, 'sys': {'type': 2, 'id': 47737, 'country': 'IR', 'sunrise': 1651628367, 'sunset': 1651677761}, 'timezone': 16200, 'id': 112931, 'name': 'Tehran', 'cod': 200}\n",
      "[{'id': 801, 'main': 'Clouds', 'description': 'few clouds', 'icon': '02d'}]\n"
     ]
    }
   ],
   "source": [
    "http=\"https://api.openweathermap.org/data/2.5/weather\"\n",
    "params={\"q\":\"Tehran\",\n",
    "       \"appid\":\"3abe880687f09ef029af88a32ac736f0\"}\n",
    "response=requests.get(http,params=params)\n",
    "values=response.json()\n",
    "print(values)\n",
    "print(values['weather'])"
   ]
  },
  {
   "cell_type": "code",
   "execution_count": 84,
   "metadata": {},
   "outputs": [
    {
     "name": "stdout",
     "output_type": "stream",
     "text": [
      "('apple', 'banana', 'cherry')\n",
      "apple\n"
     ]
    }
   ],
   "source": [
    "thistuple = tuple((\"apple\", \"banana\", \"cherry\")) # note the double round-brackets\n",
    "print(thistuple)\n",
    "a1,a2,a3=thistuple\n",
    "print(a1)"
   ]
  },
  {
   "cell_type": "code",
   "execution_count": 9,
   "metadata": {},
   "outputs": [
    {
     "name": "stdout",
     "output_type": "stream",
     "text": [
      "[{'Name': 'Alan Turing', 'age': 25, 'salary': 10000}, {'Name': 'John Hopkins', 'age': 18, 'salary': 1000}, {'Name': 'Mikhail Tal', 'age': 40, 'salary': 15000}, {'Name': 'Sharon Lin', 'age': 30, 'salary': 8000}]\n",
      "\n",
      "[{'Name': 'John Hopkins', 'age': 18, 'salary': 1000}, {'Name': 'Alan Turing', 'age': 25, 'salary': 10000}, {'Name': 'Sharon Lin', 'age': 30, 'salary': 8000}, {'Name': 'Mikhail Tal', 'age': 40, 'salary': 15000}]\n",
      "\n",
      "[{'Name': 'Mikhail Tal', 'age': 40, 'salary': 15000}, {'Name': 'Alan Turing', 'age': 25, 'salary': 10000}, {'Name': 'Sharon Lin', 'age': 30, 'salary': 8000}, {'Name': 'John Hopkins', 'age': 18, 'salary': 1000}]\n",
      "\n"
     ]
    }
   ],
   "source": [
    "employees = [\n",
    "    {'Name': 'Alan Turing', 'age': 25, 'salary': 10000},\n",
    "    {'Name': 'Sharon Lin', 'age': 30, 'salary': 8000},\n",
    "    {'Name': 'John Hopkins', 'age': 18, 'salary': 1000},\n",
    "    {'Name': 'Mikhail Tal', 'age': 40, 'salary': 15000},\n",
    "]\n",
    "\n",
    "# sort by name (Ascending order)\n",
    "employees.sort(key=lambda x: x['Name'])\n",
    "print(employees, end='\\n\\n')\n",
    "\n",
    "# sort by Age (Ascending order)\n",
    "employees.sort(key=lambda x: x['age'])\n",
    "print(employees, end='\\n\\n')\n",
    "\n",
    "# sort by salary (Descending order)\n",
    "employees.sort(key=lambda x: x['salary'], reverse=True)\n",
    "print(employees, end='\\n\\n')"
   ]
  },
  {
   "cell_type": "markdown",
   "metadata": {},
   "source": [
    "# Python For loop "
   ]
  },
  {
   "cell_type": "code",
   "execution_count": 90,
   "metadata": {},
   "outputs": [
    {
     "name": "stdout",
     "output_type": "stream",
     "text": [
      "apple\n",
      "banana\n",
      "cherry\n"
     ]
    }
   ],
   "source": [
    "fruits = [\"apple\", \"banana\", \"cherry\"]\n",
    "for x in fruits:\n",
    "  print(x)"
   ]
  },
  {
   "cell_type": "code",
   "execution_count": 91,
   "metadata": {},
   "outputs": [
    {
     "name": "stdout",
     "output_type": "stream",
     "text": [
      "apple\n",
      "banana\n"
     ]
    }
   ],
   "source": [
    "fruits = [\"apple\", \"banana\", \"cherry\"]\n",
    "for x in fruits:\n",
    "  print(x)\n",
    "  if x == \"banana\":\n",
    "    break"
   ]
  },
  {
   "cell_type": "markdown",
   "metadata": {},
   "source": [
    "####  Range(intial,Final,Step)"
   ]
  },
  {
   "cell_type": "code",
   "execution_count": 93,
   "metadata": {},
   "outputs": [
    {
     "name": "stdout",
     "output_type": "stream",
     "text": [
      "0\n",
      "1\n",
      "2\n",
      "3\n",
      "4\n",
      "5\n",
      "_________\n",
      "2\n",
      "3\n",
      "4\n",
      "5\n",
      "_________\n",
      "2\n",
      "5\n",
      "8\n",
      "11\n",
      "14\n",
      "17\n",
      "20\n",
      "23\n",
      "26\n",
      "29\n"
     ]
    }
   ],
   "source": [
    "for x in range(6):\n",
    "  print(x)\n",
    "print(\"_________\")\n",
    "for x in range(2, 6):\n",
    "  print(x)\n",
    "print(\"_________\")\n",
    "for x in range(2, 30, 3):\n",
    "  print(x)"
   ]
  },
  {
   "cell_type": "code",
   "execution_count": 94,
   "metadata": {},
   "outputs": [
    {
     "name": "stdout",
     "output_type": "stream",
     "text": [
      "red apple\n",
      "red banana\n",
      "red cherry\n",
      "big apple\n",
      "big banana\n",
      "big cherry\n",
      "tasty apple\n",
      "tasty banana\n",
      "tasty cherry\n"
     ]
    }
   ],
   "source": [
    "adj = [\"red\", \"big\", \"tasty\"]\n",
    "fruits = [\"apple\", \"banana\", \"cherry\"]\n",
    "\n",
    "for x in adj:\n",
    "  for y in fruits:\n",
    "    print(x, y)"
   ]
  },
  {
   "cell_type": "markdown",
   "metadata": {},
   "source": [
    "## Python Decorators"
   ]
  },
  {
   "cell_type": "code",
   "execution_count": 95,
   "metadata": {},
   "outputs": [],
   "source": [
    "def smart_divide(func):\n",
    "    def inner(a, b):\n",
    "        print(\"I am going to divide\", a, \"and\", b)\n",
    "        if b == 0:\n",
    "            print(\"Whoops! cannot divide\")\n",
    "            return\n",
    "\n",
    "        return func(a, b)\n",
    "    return inner\n",
    "\n",
    "\n",
    "@smart_divide\n",
    "def divide(a, b):\n",
    "    print(a/b)"
   ]
  },
  {
   "cell_type": "code",
   "execution_count": 96,
   "metadata": {},
   "outputs": [
    {
     "name": "stdout",
     "output_type": "stream",
     "text": [
      "I am going to divide 2 and 5\n",
      "0.4\n"
     ]
    }
   ],
   "source": [
    "divide(2,5)"
   ]
  },
  {
   "cell_type": "markdown",
   "metadata": {},
   "source": [
    "## Enumerate"
   ]
  },
  {
   "cell_type": "code",
   "execution_count": 1,
   "metadata": {},
   "outputs": [
    {
     "name": "stdout",
     "output_type": "stream",
     "text": [
      "[(0, 'Chrome'), (1, 'Firefox'), (2, 'Opera'), (3, 'Vivaldi')]\n"
     ]
    }
   ],
   "source": [
    "browsers = ['Chrome','Firefox','Opera','Vivaldi']\n",
    "\n",
    "# create an enumeratable and convert to list\n",
    "x = list(enumerate(browsers))\n",
    "print(x)"
   ]
  },
  {
   "cell_type": "code",
   "execution_count": 2,
   "metadata": {},
   "outputs": [
    {
     "name": "stdout",
     "output_type": "stream",
     "text": [
      "(0, 'Chrome')\n",
      "(1, 'Firefox')\n"
     ]
    }
   ],
   "source": [
    "browsers = ['Chrome','Firefox','Opera','Vivaldi']\n",
    "eObj = enumerate(browsers)\n",
    "\n",
    "x = next(eObj)\n",
    "print(x)\n",
    "x = next(eObj)\n",
    "print(x)"
   ]
  },
  {
   "cell_type": "code",
   "execution_count": 3,
   "metadata": {},
   "outputs": [
    {
     "name": "stdout",
     "output_type": "stream",
     "text": [
      "0 (15, 'Fifteen')\n",
      "1 (12, 'Twelve')\n",
      "2 (19, 'Nineteen')\n"
     ]
    }
   ],
   "source": [
    "fruits = [(15,\"Fifteen\"), (12,\"Twelve\"), (19,\"Nineteen\")]\n",
    "for i,j in enumerate(fruits):\n",
    "    print(i,j)"
   ]
  },
  {
   "cell_type": "markdown",
   "metadata": {},
   "source": [
    "## Zip "
   ]
  },
  {
   "cell_type": "markdown",
   "metadata": {},
   "source": [
    "The zip() function returns a zip object, which is an iterator of tuples where the first item in each passed iterator is paired together, and then the second item in each passed iterator are paired together etc.\n",
    "\n",
    "If the passed iterators have different lengths, the iterator with the least items decides the length of the new iterator."
   ]
  },
  {
   "cell_type": "code",
   "execution_count": 6,
   "metadata": {},
   "outputs": [
    {
     "name": "stdout",
     "output_type": "stream",
     "text": [
      "John Jenny\n",
      "Charles Christy\n",
      "Mike Monica\n"
     ]
    }
   ],
   "source": [
    "a = (\"John\", \"Charles\", \"Mike\")\n",
    "b = (\"Jenny\", \"Christy\", \"Monica\")\n",
    "\n",
    "for a,b in zip(a,b):\n",
    "    print(a,b)"
   ]
  },
  {
   "cell_type": "markdown",
   "metadata": {},
   "source": [
    "# Deques"
   ]
  },
  {
   "cell_type": "code",
   "execution_count": 11,
   "metadata": {},
   "outputs": [],
   "source": [
    "from collections import deque,Counter,ChainMap\n",
    "import itertools"
   ]
  },
  {
   "cell_type": "code",
   "execution_count": 12,
   "metadata": {},
   "outputs": [
    {
     "name": "stdout",
     "output_type": "stream",
     "text": [
      "deque(['a', 'b', 'c'])\n",
      "deque(['a', 'b', 'c', 'd'])\n",
      "deque(['a', 'b', 'c', 'd', 'e', 'x', 't'])\n",
      "deque(['z', 'y', 'w', 'a', 'b', 'c', 'd', 'e', 'x', 't'])\n"
     ]
    },
    {
     "data": {
      "text/plain": [
       "deque(['z', 'y', 'w', 'a', 'b', 'c', 'd', 'e', 'x', 't'])"
      ]
     },
     "execution_count": 12,
     "metadata": {},
     "output_type": "execute_result"
    }
   ],
   "source": [
    "dq=deque('abc')\n",
    "print(dq)\n",
    "dq.append('d')\n",
    "print(dq)\n",
    "dq.extend('ext')\n",
    "print(dq)\n",
    "dq.extendleft('wyz')\n",
    "print(dq)\n",
    "dq"
   ]
  },
  {
   "cell_type": "code",
   "execution_count": 99,
   "metadata": {},
   "outputs": [
    {
     "data": {
      "text/plain": [
       "'z'"
      ]
     },
     "execution_count": 99,
     "metadata": {},
     "output_type": "execute_result"
    }
   ],
   "source": [
    "dq.pop()\n",
    "dq.popleft()"
   ]
  },
  {
   "cell_type": "code",
   "execution_count": 100,
   "metadata": {},
   "outputs": [
    {
     "data": {
      "text/plain": [
       "deque(['e', 'x', 'y', 'w', 'a', 'b', 'c', 'd'])"
      ]
     },
     "execution_count": 100,
     "metadata": {},
     "output_type": "execute_result"
    }
   ],
   "source": [
    "dq.rotate(2)\n",
    "dq"
   ]
  },
  {
   "cell_type": "code",
   "execution_count": 101,
   "metadata": {},
   "outputs": [
    {
     "data": {
      "text/plain": [
       "['w', 'a', 'b', 'c', 'd']"
      ]
     },
     "execution_count": 101,
     "metadata": {},
     "output_type": "execute_result"
    }
   ],
   "source": [
    "list(itertools.islice(dq,3,9))"
   ]
  },
  {
   "cell_type": "code",
   "execution_count": 102,
   "metadata": {},
   "outputs": [
    {
     "name": "stdout",
     "output_type": "stream",
     "text": [
      "deque([0], maxlen=3)\n",
      "deque([0, 1], maxlen=3)\n",
      "deque([0, 1, 2], maxlen=3)\n",
      "deque([1, 2, 3], maxlen=3)\n",
      "deque([2, 3, 4], maxlen=3)\n",
      "deque([3, 4, 5], maxlen=3)\n"
     ]
    }
   ],
   "source": [
    "dq2=deque([],maxlen=3) \n",
    "for i in range(6): \n",
    "    dq2.append(i) \n",
    "    print(dq2)"
   ]
  },
  {
   "cell_type": "code",
   "execution_count": 104,
   "metadata": {},
   "outputs": [
    {
     "name": "stdout",
     "output_type": "stream",
     "text": [
      "ChainMap({'theme': 'default', 'language': 'en'})\n",
      "ChainMap({'theme': 'bluesky'}, {'theme': 'default', 'language': 'en'})\n"
     ]
    },
    {
     "data": {
      "text/plain": [
       "ChainMap({}, {'theme': 'default', 'language': 'en'})"
      ]
     },
     "execution_count": 104,
     "metadata": {},
     "output_type": "execute_result"
    }
   ],
   "source": [
    "default={'theme':'default','language':'en'}\n",
    "cm=ChainMap(default)\n",
    "print(cm)\n",
    "cm=cm.new_child({'theme':'bluesky'})\n",
    "print(cm)\n",
    "cm.pop('theme')\n",
    "cm"
   ]
  },
  {
   "cell_type": "code",
   "execution_count": 105,
   "metadata": {},
   "outputs": [
    {
     "name": "stdout",
     "output_type": "stream",
     "text": [
      "Counter({'e': 3, 'n': 2, 'a': 1, 'y': 1, 's': 1, 'q': 1, 'u': 1, 'c': 1})\n"
     ]
    },
    {
     "data": {
      "text/plain": [
       "[('e', 3),\n",
       " ('n', 2),\n",
       " ('a', 1),\n",
       " ('y', 1),\n",
       " ('s', 1),\n",
       " ('q', 1),\n",
       " ('u', 1),\n",
       " ('c', 1)]"
      ]
     },
     "execution_count": 105,
     "metadata": {},
     "output_type": "execute_result"
    }
   ],
   "source": [
    "c1=Counter('anysequence')\n",
    "print(c1)\n",
    "c1.most_common()"
   ]
  },
  {
   "cell_type": "code",
   "execution_count": 106,
   "metadata": {},
   "outputs": [
    {
     "data": {
      "text/plain": [
       "Counter({'a': 1,\n",
       "         'n': 2,\n",
       "         'y': 1,\n",
       "         's': 1,\n",
       "         'e': 2,\n",
       "         'q': 1,\n",
       "         'u': 1,\n",
       "         'c': 1,\n",
       "         2: -1})"
      ]
     },
     "execution_count": 106,
     "metadata": {},
     "output_type": "execute_result"
    }
   ],
   "source": [
    "c1.subtract({'e',2})\n",
    "c1"
   ]
  },
  {
   "cell_type": "markdown",
   "metadata": {},
   "source": [
    "## Real Application (Path finder Algorithm)"
   ]
  },
  {
   "cell_type": "code",
   "execution_count": 108,
   "metadata": {},
   "outputs": [
    {
     "name": "stdout",
     "output_type": "stream",
     "text": [
      "==========Calculating=======\n",
      "======DFS=====\n",
      "['B', 'D', 'F', 'C', 'E']\n",
      "======BFS=====\n",
      "['B', 'C', 'D', 'E']\n"
     ]
    }
   ],
   "source": [
    "from collections import deque\n",
    "path={'A':[\"B\"],\n",
    "    \"B\":[\"C\",\"D\"],\n",
    "    \"C\":[\"E\"],\n",
    "    \"D\":[\"F\"],\n",
    "    \"E\":\"\",\n",
    "    \"F\":\"\"}\n",
    "class path_finding():\n",
    "    def __init__(self,path,start,end):\n",
    "        self.path=path\n",
    "        self.start=start\n",
    "        self.end=end\n",
    "        self.frontier=deque()\n",
    "        self.explored_list=[]\n",
    "\n",
    "    def DFS(self):\n",
    "        p=self.path[self.start]\n",
    "        for i in p:\n",
    "            self.frontier.append(i)\n",
    "        while True: \n",
    "            next_path=self.frontier.pop()\n",
    "            self.explored_list.append(next_path)\n",
    "            if next_path==self.end:\n",
    "                break\n",
    "            else:\n",
    "                p=path[next_path]\n",
    "            for i in p:\n",
    "                self.frontier.append(i)\n",
    "    def BFS(self):\n",
    "        p=self.path[self.start]\n",
    "        for i in p:\n",
    "            self.frontier.append(i)\n",
    "        while True: \n",
    "            next_path=self.frontier.popleft()\n",
    "            self.explored_list.append(next_path)\n",
    "            if next_path==self.end:\n",
    "                break\n",
    "            else:\n",
    "                p=path[next_path]\n",
    "            for i in p:\n",
    "                self.frontier.append(i)\n",
    "    def export_path(self):\n",
    "        return self.explored_list\n",
    "    def clear_list(self):\n",
    "        self.explored_list.clear()\n",
    "if __name__==\"__main__\":\n",
    "   \n",
    "    dfs=path_finding(path,start=\"A\",end=\"E\")\n",
    "    print(f\"==========Calculating=======\")\n",
    "    print(f\"======DFS=====\")\n",
    "    dfs.DFS()\n",
    "    listed=dfs.export_path()\n",
    "    print(listed)\n",
    "    dfs.clear_list()\n",
    "    print(f\"======BFS=====\")\n",
    "    dfs.BFS()\n",
    "    listed=dfs.export_path()\n",
    "    print(listed)\n"
   ]
  },
  {
   "cell_type": "code",
   "execution_count": null,
   "metadata": {},
   "outputs": [],
   "source": []
  }
 ],
 "metadata": {
  "kernelspec": {
   "display_name": "Python 3 (ipykernel)",
   "language": "python",
   "name": "python3"
  },
  "language_info": {
   "codemirror_mode": {
    "name": "ipython",
    "version": 3
   },
   "file_extension": ".py",
   "mimetype": "text/x-python",
   "name": "python",
   "nbconvert_exporter": "python",
   "pygments_lexer": "ipython3",
   "version": "3.9.12"
  }
 },
 "nbformat": 4,
 "nbformat_minor": 4
}
